{
  "cells": [
    {
      "cell_type": "markdown",
      "id": "478bc81f",
      "metadata": {
        "id": "478bc81f"
      },
      "source": [
        "# ✍️ Machine Learning Demo: Handgeschreven cijfers herkennen (MNIST)\n",
        "\n",
        "In dit project gaan we een machine learning-model bouwen dat **handgeschreven cijfers (0 t/m 9)** kan herkennen. We gebruiken hiervoor de bekende **MNIST-dataset**, een van de meest gebruikte datasets in computer vision."
      ]
    },
    {
      "cell_type": "markdown",
      "id": "bd656c05",
      "metadata": {
        "id": "bd656c05"
      },
      "source": [
        "## 📦 Stap 1: Dataset laden en verkennen\n",
        "We gebruiken `sklearn.datasets` om de **MNIST digits dataset** te laden. Deze dataset bevat 1.797 zwart-wit afbeeldingen van 8x8 pixels met cijfers van 0 tot 9.\n",
        "\n",
        "We bekijken eerst de vorm en inhoud van de data."
      ]
    },
    {
      "cell_type": "code",
      "execution_count": null,
      "id": "ee4c0450",
      "metadata": {
        "id": "ee4c0450"
      },
      "outputs": [],
      "source": [
        "from sklearn.datasets import load_digits\n",
        "import matplotlib.pyplot as plt\n",
        "import pandas as pd\n",
        "import numpy as np\n",
        "\n",
        "# Dataset laden\n",
        "digits = load_digits()\n",
        "print(\"Aantal voorbeelden:\", len(digits.images))\n",
        "print(\"Vorm van één afbeelding:\", digits.images[0].shape)\n",
        "\n",
        "# Eerste cijfer bekijken\n",
        "plt.imshow(digits.images[0], cmap='gray')\n",
        "plt.title(f\"Label: {digits.target[0]}\")\n",
        "plt.axis('off')\n",
        "plt.show()"
      ]
    },
    {
      "cell_type": "markdown",
      "id": "8118a78f",
      "metadata": {
        "id": "8118a78f"
      },
      "source": [
        "## 🧹 Stap 2: Data voorbereiden\n",
        "\n",
        "Voor machine learning moeten we 2D-afbeeldingen omzetten naar platte rijen (1D). Elke afbeelding van 8x8 pixels wordt dus een vector van 64 getallen.\n",
        "We splitsen ook de data in een trainingsset en een testset."
      ]
    },
    {
      "cell_type": "code",
      "execution_count": null,
      "id": "355c5ccb",
      "metadata": {
        "id": "355c5ccb"
      },
      "outputs": [],
      "source": [
        "from sklearn.model_selection import train_test_split\n",
        "\n",
        "# X = platte pixels, y = cijfers\n",
        "X = digits.data  # shape: (1797, 64)\n",
        "y = digits.target\n",
        "\n",
        "# Splitsen in 80% train, 20% test\n",
        "X_train, X_test, y_train, y_test = train_test_split(X, y, test_size=0.2, random_state=42)\n",
        "print(\"Trainingsdata:\", X_train.shape)\n",
        "print(\"Testdata:\", X_test.shape)"
      ]
    },
    {
      "cell_type": "markdown",
      "id": "79f1f5f2",
      "metadata": {
        "id": "79f1f5f2"
      },
      "source": [
        "## 🧠 Stap 3: Model trainen (Support Vector Machine)\n",
        "\n",
        "We gebruiken hier een Support Vector Classifier (SVC), een klassiek ML-model dat goed werkt bij beeldherkenning. We trainen het model op de trainingsset."
      ]
    },
    {
      "cell_type": "code",
      "execution_count": null,
      "id": "de0e7d91",
      "metadata": {
        "id": "de0e7d91"
      },
      "outputs": [],
      "source": [
        "from sklearn.svm import SVC\n",
        "\n",
        "model = SVC(gamma=0.001)  # gamma = complexiteit van het model\n",
        "model.fit(X_train, y_train)\n",
        "\n",
        "print(\"Model getraind!\")"
      ]
    },
    {
      "cell_type": "markdown",
      "id": "62ca4ac5",
      "metadata": {
        "id": "62ca4ac5"
      },
      "source": [
        "## ✅ Stap 4: Evalueren van het model\n",
        "\n",
        "We voorspellen op de testset en vergelijken de voorspellingen met de echte labels.\n",
        "We gebruiken een classificatierapport en bekijken ook een paar voorbeeldafbeeldingen."
      ]
    },
    {
      "cell_type": "code",
      "execution_count": null,
      "id": "10749ac4",
      "metadata": {
        "id": "10749ac4"
      },
      "outputs": [],
      "source": [
        "from sklearn.metrics import classification_report, confusion_matrix\n",
        "\n",
        "y_pred = model.predict(X_test)\n",
        "\n",
        "# Rapport\n",
        "print(classification_report(y_test, y_pred))"
      ]
    },
    {
      "cell_type": "markdown",
      "id": "d382fadf",
      "metadata": {
        "id": "d382fadf"
      },
      "source": [
        "## 🖼️ Bonus: Visualiseer een paar voorspellingen\n",
        "We tonen enkele cijfers uit de testset, samen met de voorspelling van het model."
      ]
    },
    {
      "cell_type": "code",
      "execution_count": null,
      "id": "2724a975",
      "metadata": {
        "id": "2724a975"
      },
      "outputs": [],
      "source": [
        "fig, axes = plt.subplots(2, 5, figsize=(10, 5))\n",
        "for i, ax in enumerate(axes.flat):\n",
        "    ax.imshow(X_test[i].reshape(8, 8), cmap='gray')\n",
        "    ax.set_title(f\"Pred: {y_pred[i]}\\nTrue: {y_test[i]}\")\n",
        "    ax.axis('off')\n",
        "plt.tight_layout()\n",
        "plt.show()"
      ]
    }
  ],
  "metadata": {
    "colab": {
      "provenance": []
    },
    "language_info": {
      "name": "python"
    },
    "kernelspec": {
      "name": "python3",
      "display_name": "Python 3"
    }
  },
  "nbformat": 4,
  "nbformat_minor": 5
}