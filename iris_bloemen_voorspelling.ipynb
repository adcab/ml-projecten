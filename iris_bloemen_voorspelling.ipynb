{
  "cells": [
    {
      "cell_type": "markdown",
      "id": "5fe1e46c",
      "metadata": {
        "id": "5fe1e46c"
      },
      "source": [
        "# 🪴 Simpele ML Demo: Iris Bloemen Classificatie"
      ]
    },
    {
      "cell_type": "markdown",
      "id": "1c5e20a0",
      "metadata": {
        "id": "1c5e20a0"
      },
      "source": [
        "Deze demo laat zien hoe je een eenvoudig machine learning-model bouwt dat verschillende soorten iris-bloemen kan herkennen op basis van metingen van bloemblaadjes."
      ]
    },
    {
      "cell_type": "markdown",
      "id": "67a7e527",
      "metadata": {
        "id": "67a7e527"
      },
      "source": [
        "## 📦 Stap 1: Data inladen"
      ]
    },
    {
      "cell_type": "markdown",
      "id": "ac1f1c7d",
      "metadata": {
        "id": "ac1f1c7d"
      },
      "source": [
        "We gebruiken de bekende Iris dataset van scikit-learn."
      ]
    },
    {
      "cell_type": "code",
      "source": [
        "from sklearn.datasets import load_iris\n",
        "import pandas as pd"
      ],
      "metadata": {
        "id": "1Phw6T6PoALg"
      },
      "id": "1Phw6T6PoALg",
      "execution_count": null,
      "outputs": []
    },
    {
      "cell_type": "code",
      "source": [
        "iris = load_iris()\n",
        "df = pd.DataFrame(iris.data, columns=iris.feature_names)\n",
        "df['target'] = iris.target\n",
        "df.head()"
      ],
      "metadata": {
        "id": "I4zTTcDnoEDo"
      },
      "id": "I4zTTcDnoEDo",
      "execution_count": null,
      "outputs": []
    },
    {
      "cell_type": "markdown",
      "source": [
        "## Wat hebben we hier precies gedaan?\n",
        "\n",
        "We laden een klassieke dataset in die veel wordt gebruikt om te oefenen met ML.\n",
        "\n",
        "Elke rij is een bloem, en de kolommen zijn metingen: lengte/breedte van sepalen (kelkbladen) en petalen (kroonbladen).\n",
        "\n",
        "De target-kolom is de bloemsoort (Setosa, Versicolor, Virginica), als getallen: 0, 1, of 2.\n",
        "\n",
        "We gebruiken head() om de eerste paar rijen te bekijken: dit is altijd een goede eerste stap om je data te begrijpen.\n"
      ],
      "metadata": {
        "id": "1PNpE6szo2Fm"
      },
      "id": "1PNpE6szo2Fm"
    },
    {
      "cell_type": "markdown",
      "id": "d9f6808c",
      "metadata": {
        "id": "d9f6808c"
      },
      "source": [
        "## 🧹 Stap 2: Data voorbereiden"
      ]
    },
    {
      "cell_type": "markdown",
      "id": "1b887d29",
      "metadata": {
        "id": "1b887d29"
      },
      "source": [
        "We splitsen de data in features (X) en doelvariabele (y), en daarna in train/test-sets."
      ]
    },
    {
      "cell_type": "code",
      "source": [
        "from sklearn.model_selection import train_test_split"
      ],
      "metadata": {
        "id": "KJ8IQdnToKNu"
      },
      "id": "KJ8IQdnToKNu",
      "execution_count": null,
      "outputs": []
    },
    {
      "cell_type": "code",
      "source": [
        "X = df[iris.feature_names]\n",
        "y = df['target']\n",
        "X_train, X_test, y_train, y_test = train_test_split(X, y, test_size=0.3, random_state=42)"
      ],
      "metadata": {
        "id": "QHdtCZxToLf_"
      },
      "id": "QHdtCZxToLf_",
      "execution_count": null,
      "outputs": []
    },
    {
      "cell_type": "markdown",
      "source": [
        "## Wat doen we hier?\n",
        "\n",
        "\n",
        "We splitsen de data in input (X) en output (y). Het model gaat leren van de features (X) om de target te voorspellen.\n",
        "\n",
        "Daarna splitsen we dit in een trainingsset (70%) en een testset (30%). De training wordt gebruikt om het model te bouwen, de test om het te evalueren.\n",
        "\n",
        "Dit is belangrijk omdat je anders het model evalueert op data die het al heeft gezien – en dat geeft een vertekend beeld van hoe goed het model echt is."
      ],
      "metadata": {
        "id": "8IbGnmewpNOR"
      },
      "id": "8IbGnmewpNOR"
    },
    {
      "cell_type": "markdown",
      "id": "9707d242",
      "metadata": {
        "id": "9707d242"
      },
      "source": [
        "## 🧠 Stap 3: Model trainen"
      ]
    },
    {
      "cell_type": "markdown",
      "id": "f22c59b5",
      "metadata": {
        "id": "f22c59b5"
      },
      "source": [
        "We gebruiken een eenvoudige logistic regression (klassieke ML-methode).Dat is een simpel, maar krachtig model voor classificatie.\n",
        "\n",
        "Met .fit() leert het model de verbanden tussen de metingen van de bloem en de juiste soort.\n",
        "\n",
        "Achter de schermen zoekt het algoritme naar grenslijnen die de verschillende bloemsoorten het best van elkaar scheiden in de ruimte van de features."
      ]
    },
    {
      "cell_type": "code",
      "source": [
        "from sklearn.linear_model import LogisticRegression"
      ],
      "metadata": {
        "id": "x4S5vJuyoU_q"
      },
      "id": "x4S5vJuyoU_q",
      "execution_count": null,
      "outputs": []
    },
    {
      "cell_type": "code",
      "source": [
        "model = LogisticRegression(max_iter=200)\n",
        "model.fit(X_train, y_train)"
      ],
      "metadata": {
        "id": "v_Zi-uW6plOt"
      },
      "id": "v_Zi-uW6plOt",
      "execution_count": null,
      "outputs": []
    },
    {
      "cell_type": "markdown",
      "id": "20463863",
      "metadata": {
        "id": "20463863"
      },
      "source": [
        "## ✅ Stap 4: Evalueren van het model"
      ]
    },
    {
      "cell_type": "markdown",
      "id": "e3842f7f",
      "metadata": {
        "id": "e3842f7f"
      },
      "source": [
        "We kijken hoe goed het model presteert op de testset."
      ]
    },
    {
      "cell_type": "code",
      "source": [
        "from sklearn.metrics import classification_report"
      ],
      "metadata": {
        "id": "ADENJMuSpwBT"
      },
      "id": "ADENJMuSpwBT",
      "execution_count": null,
      "outputs": []
    },
    {
      "cell_type": "code",
      "source": [
        "y_pred = model.predict(X_test)\n",
        "print(classification_report(y_test, y_pred, target_names=iris.target_names))"
      ],
      "metadata": {
        "id": "fkthUOc9pzaC"
      },
      "id": "fkthUOc9pzaC",
      "execution_count": null,
      "outputs": []
    },
    {
      "cell_type": "markdown",
      "source": [
        "Hier gebruiken we de testdata om te voorspellen (predict) en vergelijken de uitkomst met de echte labels (y_test).\n",
        "\n",
        "classification_report toont 4 belangrijke metrics:\n",
        "\n",
        "**Precision**: Hoe vaak was het model correct als het voorspelde ‘dit is een Setosa’?\n",
        "\n",
        "**Recall**: Hoeveel van alle echte Setosa’s heeft het model goed gevonden?\n",
        "\n",
        "**F1-score**: De balans tussen precision en recall.\n",
        "\n",
        "**Accuracy**: Hoeveel procent van alle bloemen zijn juist geclassificeerd.\n",
        "\n",
        "Dit geeft ons inzicht in hoe goed het model werkt – in dit geval vaak >95%, omdat de Iris dataset relatief ‘schoon’ is."
      ],
      "metadata": {
        "id": "xdOePqa9p2eF"
      },
      "id": "xdOePqa9p2eF"
    },
    {
      "cell_type": "markdown",
      "id": "c90710e4",
      "metadata": {
        "id": "c90710e4"
      },
      "source": [
        "## 🌼 Bonus: Maak een voorspelling!"
      ]
    },
    {
      "cell_type": "markdown",
      "id": "ed87b43d",
      "metadata": {
        "id": "ed87b43d"
      },
      "source": [
        "Probeer zelf een voorbeeld in te vullen."
      ]
    },
    {
      "cell_type": "code",
      "source": [
        "voorbeeld = [[5.1, 3.5, 1.4, 0.2]]  # lengte & breedte van sepalen en petalen\n",
        "voorspelling = model.predict(voorbeeld)\n",
        "print(\"Voorspelde bloemsoort:\", iris.target_names[voorspelling[0]])"
      ],
      "metadata": {
        "id": "8Hza6GrTqE7T"
      },
      "id": "8Hza6GrTqE7T",
      "execution_count": null,
      "outputs": []
    }
  ],
  "metadata": {
    "colab": {
      "provenance": []
    },
    "language_info": {
      "name": "python"
    },
    "kernelspec": {
      "name": "python3",
      "display_name": "Python 3"
    }
  },
  "nbformat": 4,
  "nbformat_minor": 5
}