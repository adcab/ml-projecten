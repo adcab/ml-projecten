{
  "cells": [
    {
      "cell_type": "markdown",
      "id": "e8e66079",
      "metadata": {
        "id": "e8e66079"
      },
      "source": [
        "# 🧠 ML Demo: Dagelijkse Productiviteit Voorspellen\n",
        "\n",
        "In deze demo bouwen we een machine learning-model dat de productiviteit van een persoon voorspelt op basis van dagelijkse gewoonten zoals slaap, schermtijd, pauzes, etc."
      ]
    },
    {
      "cell_type": "markdown",
      "id": "21b09564",
      "metadata": {
        "id": "21b09564"
      },
      "source": [
        "## 📊 Stap 1: Data genereren en bekijken\n",
        "\n",
        "We gebruiken gesimuleerde data met de volgende variabelen:\n",
        "- `slaap_uren`: aantal uur geslapen\n",
        "- `schermtijd_uren`: tijd gespendeerd aan schermen\n",
        "- `pauzes_genomen`: aantal pauzes op een dag\n",
        "- `aantal_meetings`: vergaderingen per dag\n",
        "- `stemmingscore`: hoe goed voelt iemand zich (1-10)\n",
        "- `productiviteit`: doelvariabele, score van 0 (niet productief) tot 10 (heel productief)"
      ]
    },
    {
      "cell_type": "code",
      "execution_count": null,
      "id": "fae7f325",
      "metadata": {
        "id": "fae7f325"
      },
      "outputs": [],
      "source": [
        "import pandas as pd\n",
        "import numpy as np\n",
        "\n",
        "np.random.seed(42)\n",
        "data = {\n",
        "    'slaap_uren': np.random.normal(7, 1, 100),\n",
        "    'schermtijd_uren': np.random.normal(6, 1.5, 100),\n",
        "    'pauzes_genomen': np.random.randint(0, 5, 100),\n",
        "    'aantal_meetings': np.random.randint(0, 6, 100),\n",
        "    'stemmingscore': np.random.uniform(1, 10, 100),\n",
        "}\n",
        "\n",
        "df = pd.DataFrame(data)\n",
        "df['productiviteit'] = (\n",
        "    0.3 * df['slaap_uren'] -\n",
        "    0.2 * df['schermtijd_uren'] +\n",
        "    0.1 * df['pauzes_genomen'] -\n",
        "    0.05 * df['aantal_meetings'] +\n",
        "    0.4 * df['stemmingscore'] +\n",
        "    np.random.normal(0, 0.5, 100)\n",
        ").clip(0, 10).round(1)\n",
        "\n",
        "df.head()"
      ]
    },
    {
      "cell_type": "markdown",
      "source": [
        "## 🔍 Wat doet \"np.random.normal()\" precies?\n",
        "Dit gebruikt NumPy om 100 willekeurige getallen te genereren die ongeveer lijken op echte meetwaarden – in dit geval slaapuren.\n",
        "\n",
        "💡 np.random.normal(mean, std, size)\n",
        "mean = 7: het gemiddelde van de gegenereerde waarden (dus ~7 uur slaap)\n",
        "\n",
        "std = 1: de standaarddeviatie, ofwel: hoeveel variatie er is (tussen ±1 uur)\n",
        "\n",
        "size = 100: het aantal waarden dat we genereren\n",
        "\n",
        "## ✏️ Hoe pas je dit aan aan jouw eigen data?\n",
        "**Stel**:\n",
        "\n",
        "Je wil data maken met een gemiddelde van 6,5 uur slaap\n",
        "\n",
        "Je wil iets minder variatie, zeg 0.8 uur\n",
        "\n",
        "Je wil dit voor 365 dagen doen (één jaar)\n",
        "\n",
        "Dan pas je de code zo aan:\n",
        "\n",
        "slaap_uren = np.random.normal(6.5, 0.8, 365)"
      ],
      "metadata": {
        "id": "R1Wh3L6FsNvK"
      },
      "id": "R1Wh3L6FsNvK"
    },
    {
      "cell_type": "markdown",
      "id": "d8becab5",
      "metadata": {
        "id": "d8becab5"
      },
      "source": [
        "## 🧹 Stap 2: Data splitsen in train en test\n",
        "\n",
        "We verdelen onze data zodat we kunnen trainen op één deel en testen op een ander deel om overfitting te vermijden.\n"
      ]
    },
    {
      "cell_type": "code",
      "execution_count": null,
      "id": "e5b27aca",
      "metadata": {
        "id": "e5b27aca"
      },
      "outputs": [],
      "source": [
        "from sklearn.model_selection import train_test_split\n",
        "\n",
        "X = df.drop(columns='productiviteit')\n",
        "y = df['productiviteit']\n",
        "X_train, X_test, y_train, y_test = train_test_split(X, y, test_size=0.2, random_state=42)"
      ]
    },
    {
      "cell_type": "markdown",
      "source": [
        "## 🔍 Wat doen we hier?\n",
        "🧠 Machine Learning-modellen leren van voorbeelden\n",
        "Je wilt een model dat leert van data om voorspellingen te doen.\n",
        "\n",
        "Maar: je kunt de kwaliteit van dat model alleen eerlijk beoordelen als je test op data die het nog niet heeft gezien tijdens het trainen.\n",
        "\n",
        "🎯 Daarom splitsen we de data in:\n",
        "Trainingsset (bijv. 80%) → om het model te trainen\n",
        "\n",
        "Testset (bijv. 20%) → om het model te evalueren"
      ],
      "metadata": {
        "id": "yzfzbJYes7xY"
      },
      "id": "yzfzbJYes7xY"
    },
    {
      "cell_type": "markdown",
      "id": "d68dc95f",
      "metadata": {
        "id": "d68dc95f"
      },
      "source": [
        "## 🧠 Stap 3: Model trainen\n",
        "\n",
        "We gebruiken een eenvoudige regressie (Random Forest) om een numerieke score te voorspellen."
      ]
    },
    {
      "cell_type": "code",
      "execution_count": null,
      "id": "f710ee86",
      "metadata": {
        "id": "f710ee86"
      },
      "outputs": [],
      "source": [
        "from sklearn.ensemble import RandomForestRegressor\n",
        "\n",
        "model = RandomForestRegressor(n_estimators=100, random_state=42)\n",
        "model.fit(X_train, y_train)"
      ]
    },
    {
      "cell_type": "markdown",
      "source": [
        "## 🌳 Wat is een Random Forest?\n",
        "Een Random Forest is een krachtig en flexibel machine learning-model dat voorspellingen doet door veel beslisbomen te combineren.\n",
        "\n",
        "## 🔍 In het kort:\n",
        "Een beslisboom is een model dat beslissingen neemt door vragen te stellen zoals:\n",
        "\n",
        "*“Heeft deze persoon meer dan 6 uur geslapen?”*\n",
        "\n",
        "*“Is de schermtijd groter dan 8 uur?”*\n",
        "\n",
        "\n",
        "Eén boom is vaak niet zo precies (kan overfitten of te simplistisch zijn).\n",
        "\n",
        "Een Random Forest maakt veel verschillende bomen (bijvoorbeeld 100), elk op een iets andere subset van de data.\n",
        "\n",
        "## 🌲 Het woord 'random' slaat op:\n",
        "Elke boom krijgt een willekeurige selectie van datapunten uit de trainingsset.\n",
        "\n",
        "Bij het splitsen in de boom wordt op een willekeurige subset van features gezocht naar de beste splitsing.\n",
        "\n",
        "De voorspelling van het model is dan het gemiddelde van al die bomen (voor regressie).\n",
        "\n",
        "## 🎯 Waarom gebruiken we Random Forest?\n",
        "✅ Voordelen:\n",
        "\n",
        "Werkt goed met weinig tuning\n",
        "\n",
        "Kan niet-lineaire verbanden leren\n",
        "\n",
        "Robuust tegen overfitting (beter dan één enkele boom)\n",
        "\n",
        "Kan feature importance tonen (welke variabelen het belangrijkst zijn)\n",
        "\n",
        "❌ Nadelen:\n",
        "\n",
        "Niet altijd makkelijk uitlegbaar\n",
        "\n",
        "Kan traag zijn bij hele grote datasets"
      ],
      "metadata": {
        "id": "TaPjTgjutN7f"
      },
      "id": "TaPjTgjutN7f"
    },
    {
      "cell_type": "markdown",
      "id": "b2fab49e",
      "metadata": {
        "id": "b2fab49e"
      },
      "source": [
        "## ✅ Stap 4: Resultaten bekijken\n",
        "\n",
        "We meten hoe goed het model presteert met R²-score en bekijken enkele voorspellingen."
      ]
    },
    {
      "cell_type": "code",
      "execution_count": null,
      "id": "44d5ae05",
      "metadata": {
        "id": "44d5ae05"
      },
      "outputs": [],
      "source": [
        "from sklearn.metrics import r2_score\n",
        "\n",
        "y_pred = model.predict(X_test)\n",
        "score = r2_score(y_test, y_pred)\n",
        "print(f\"R²-score: {score:.2f}\")\n",
        "\n",
        "# Vergelijk echte vs voorspelde waarden\n",
        "output = pd.DataFrame({'Echt': y_test.values, 'Voorspeld': y_pred.round(1)})\n",
        "output.head()"
      ]
    },
    {
      "cell_type": "markdown",
      "source": [
        "## 🔍 Wat doen we hier precies?\n",
        "\n",
        "## 🔢 1. model.predict(X_test)\n",
        "Hiermee gebruik je het getrainde model om voorspellingen te doen op de testdata – dus op data die het model nog niet heeft gezien.\n",
        "\n",
        "Voor elke rij (dag) voorspelt het model een productiviteitsscore tussen 0 en 10.\n",
        "\n",
        "## 🎯 2. r2_score(y_test, y_pred)\n",
        "Dit is de R-kwadraat score (coëfficiënt van determinatie) – een maat voor hoe goed het model de variatie in de data verklaart.\n",
        "\n",
        "🔍 Interpretatie van R²:\n",
        "1.0 = perfect model (voorspelt alles exact goed)\n",
        "\n",
        "0.0 = model doet het niet beter dan een simpel gemiddelde\n",
        "\n",
        "Negatief = model doet het slechter dan een domme gok\n",
        "\n",
        "\n",
        "## 📊 3. pd.DataFrame({'Echt': ..., 'Voorspeld': ...})\n",
        "Dit toont een vergelijking tussen:\n",
        "\n",
        "Echt: wat er daadwerkelijk gemeten of vastgelegd is\n",
        "\n",
        "Voorspeld: wat het model denkt dat het zou moeten zijn\n",
        "\n",
        "💡 Dit helpt om te zien:\n",
        "\n",
        "Zit het model er meestal dichtbij?\n",
        "\n",
        "Zijn er systematische overschattingen of onderschattingen?\n",
        "\n",
        "\n",
        "## 🧠 Waarom is dit belangrijk?\n",
        "Je leert hoe goed je model generaliseert naar nieuwe situaties\n",
        "\n",
        "Je voorkomt dat je denkt dat het model slim is, terwijl het alleen maar trainingsdata heeft gememoriseerd\n",
        "\n",
        "Je kunt feedback geven aan het model (bijv. door extra features toe te voegen als het nog niet goed genoeg is)\n",
        "\n"
      ],
      "metadata": {
        "id": "EbRe0gYJt1NW"
      },
      "id": "EbRe0gYJt1NW"
    },
    {
      "cell_type": "markdown",
      "source": [
        "## 📈 Scatterplot: Voorspeld vs. Werkelijk\n",
        "\n",
        "Laat zien hoe goed de voorspellingen overeenkomen met de echte waarden.\n",
        "Een perfecte voorspelling ligt precies op de diagonale rode lijn."
      ],
      "metadata": {
        "id": "y28b6USeubsb"
      },
      "id": "y28b6USeubsb"
    },
    {
      "cell_type": "code",
      "source": [
        "import matplotlib.pyplot as plt\n",
        "\n",
        "plt.figure(figsize=(6, 6))\n",
        "plt.scatter(y_test, y_pred, alpha=0.7)\n",
        "plt.xlabel('Werkelijke productiviteit')\n",
        "plt.ylabel('Voorspelde productiviteit')\n",
        "plt.title('Voorspeld vs Werkelijk')\n",
        "plt.plot([0, 10], [0, 10], '--r')  # Diagonale lijn als referentie (perfecte score)\n",
        "plt.grid(True)\n",
        "plt.show()"
      ],
      "metadata": {
        "id": "jOJtO4w3ulwQ"
      },
      "id": "jOJtO4w3ulwQ",
      "execution_count": null,
      "outputs": []
    },
    {
      "cell_type": "markdown",
      "id": "dbaba22c",
      "metadata": {
        "id": "dbaba22c"
      },
      "source": [
        "## 🧪 Bonus: Voorspel jouw productiviteit\n",
        "\n",
        "Je kunt nu zelf een dag invullen en laten voorspellen hoe productief je zal zijn."
      ]
    },
    {
      "cell_type": "code",
      "execution_count": null,
      "id": "2c11d46a",
      "metadata": {
        "id": "2c11d46a"
      },
      "outputs": [],
      "source": [
        "voorbeeld = pd.DataFrame({\n",
        "    'slaap_uren': [7.5],\n",
        "    'schermtijd_uren': [5],\n",
        "    'pauzes_genomen': [2],\n",
        "    'aantal_meetings': [3],\n",
        "    'stemmingscore': [6.5]\n",
        "})\n",
        "\n",
        "voorspelling = model.predict(voorbeeld)\n",
        "print(f\"Voorspelde productiviteitsscore: {voorspelling[0]:.1f} / 10\")"
      ]
    }
  ],
  "metadata": {
    "colab": {
      "provenance": []
    },
    "language_info": {
      "name": "python"
    },
    "kernelspec": {
      "name": "python3",
      "display_name": "Python 3"
    }
  },
  "nbformat": 4,
  "nbformat_minor": 5
}